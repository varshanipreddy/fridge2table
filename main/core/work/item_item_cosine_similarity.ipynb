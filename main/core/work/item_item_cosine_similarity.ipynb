{
 "cells": [
  {
   "cell_type": "code",
   "execution_count": 22,
   "id": "bdd1b71f",
   "metadata": {},
   "outputs": [],
   "source": [
    "import pandas as pd\n",
    "import numpy as np"
   ]
  },
  {
   "cell_type": "code",
   "execution_count": 23,
   "id": "91d8aa66",
   "metadata": {},
   "outputs": [],
   "source": [
    "# Read the CSV file into a data frame\n",
    "df = pd.read_csv('new_df.csv', usecols=['name','recipe_id','minutes','tags','n_steps','steps','ingredients','n_ingredients','rating'])\n"
   ]
  },
  {
   "cell_type": "code",
   "execution_count": 24,
   "id": "f785b459",
   "metadata": {},
   "outputs": [],
   "source": [
    "df_sorted = df.sort_values(by=['rating'], ascending=False)"
   ]
  },
  {
   "cell_type": "code",
   "execution_count": 25,
   "id": "588c8907",
   "metadata": {},
   "outputs": [],
   "source": [
    "df_sorted['recipe_id_name'] = df_sorted.index "
   ]
  },
  {
   "cell_type": "code",
   "execution_count": 26,
   "id": "dda136d7",
   "metadata": {},
   "outputs": [
    {
     "data": {
      "text/html": [
       "<div>\n",
       "<style scoped>\n",
       "    .dataframe tbody tr th:only-of-type {\n",
       "        vertical-align: middle;\n",
       "    }\n",
       "\n",
       "    .dataframe tbody tr th {\n",
       "        vertical-align: top;\n",
       "    }\n",
       "\n",
       "    .dataframe thead th {\n",
       "        text-align: right;\n",
       "    }\n",
       "</style>\n",
       "<table border=\"1\" class=\"dataframe\">\n",
       "  <thead>\n",
       "    <tr style=\"text-align: right;\">\n",
       "      <th></th>\n",
       "      <th>name</th>\n",
       "      <th>recipe_id</th>\n",
       "      <th>minutes</th>\n",
       "      <th>tags</th>\n",
       "      <th>n_steps</th>\n",
       "      <th>steps</th>\n",
       "      <th>ingredients</th>\n",
       "      <th>n_ingredients</th>\n",
       "      <th>rating</th>\n",
       "      <th>recipe_id_name</th>\n",
       "    </tr>\n",
       "  </thead>\n",
       "  <tbody>\n",
       "    <tr>\n",
       "      <th>6030</th>\n",
       "      <td>mexican stack up  rsc</td>\n",
       "      <td>486261</td>\n",
       "      <td>75</td>\n",
       "      <td>['time-to-make', 'course', 'main-ingredient', ...</td>\n",
       "      <td>28</td>\n",
       "      <td>['preheat broiler to high broil', 'set the rac...</td>\n",
       "      <td>['poblano pepper', 'reynolds wrap foil', 'oliv...</td>\n",
       "      <td>22</td>\n",
       "      <td>4.990783</td>\n",
       "      <td>6030</td>\n",
       "    </tr>\n",
       "    <tr>\n",
       "      <th>469</th>\n",
       "      <td>autumn chicken salad</td>\n",
       "      <td>25735</td>\n",
       "      <td>20</td>\n",
       "      <td>['30-minutes-or-less', 'time-to-make', 'course...</td>\n",
       "      <td>3</td>\n",
       "      <td>['mix together first 9 ingredients in a large ...</td>\n",
       "      <td>['chicken', 'red seedless grapes', 'celery rib...</td>\n",
       "      <td>10</td>\n",
       "      <td>4.975610</td>\n",
       "      <td>469</td>\n",
       "    </tr>\n",
       "    <tr>\n",
       "      <th>6467</th>\n",
       "      <td>nogales steak tacos</td>\n",
       "      <td>51650</td>\n",
       "      <td>50</td>\n",
       "      <td>['60-minutes-or-less', 'time-to-make', 'course...</td>\n",
       "      <td>18</td>\n",
       "      <td>['mix all marinade ingredients', 'pierce the s...</td>\n",
       "      <td>['steak', 'garlic cloves', 'kosher salt', 'sou...</td>\n",
       "      <td>18</td>\n",
       "      <td>4.972973</td>\n",
       "      <td>6467</td>\n",
       "    </tr>\n",
       "    <tr>\n",
       "      <th>7457</th>\n",
       "      <td>quick and easy baked ziti</td>\n",
       "      <td>186352</td>\n",
       "      <td>55</td>\n",
       "      <td>['60-minutes-or-less', 'time-to-make', 'course...</td>\n",
       "      <td>13</td>\n",
       "      <td>['preheat oven to 350f', 'lightly grease a 9x1...</td>\n",
       "      <td>['mild italian sausage', 'onion', 'green bell ...</td>\n",
       "      <td>8</td>\n",
       "      <td>4.972973</td>\n",
       "      <td>7457</td>\n",
       "    </tr>\n",
       "    <tr>\n",
       "      <th>4218</th>\n",
       "      <td>greek yoghurt and fruit salad</td>\n",
       "      <td>166623</td>\n",
       "      <td>10</td>\n",
       "      <td>['15-minutes-or-less', 'time-to-make', 'course...</td>\n",
       "      <td>3</td>\n",
       "      <td>['in a parfait or sundae glass , layer some fr...</td>\n",
       "      <td>['greek yogurt', 'fruit salad', 'honey', 'waln...</td>\n",
       "      <td>5</td>\n",
       "      <td>4.972222</td>\n",
       "      <td>4218</td>\n",
       "    </tr>\n",
       "  </tbody>\n",
       "</table>\n",
       "</div>"
      ],
      "text/plain": [
       "                               name  recipe_id  minutes  \\\n",
       "6030          mexican stack up  rsc     486261       75   \n",
       "469            autumn chicken salad      25735       20   \n",
       "6467            nogales steak tacos      51650       50   \n",
       "7457      quick and easy baked ziti     186352       55   \n",
       "4218  greek yoghurt and fruit salad     166623       10   \n",
       "\n",
       "                                                   tags  n_steps  \\\n",
       "6030  ['time-to-make', 'course', 'main-ingredient', ...       28   \n",
       "469   ['30-minutes-or-less', 'time-to-make', 'course...        3   \n",
       "6467  ['60-minutes-or-less', 'time-to-make', 'course...       18   \n",
       "7457  ['60-minutes-or-less', 'time-to-make', 'course...       13   \n",
       "4218  ['15-minutes-or-less', 'time-to-make', 'course...        3   \n",
       "\n",
       "                                                  steps  \\\n",
       "6030  ['preheat broiler to high broil', 'set the rac...   \n",
       "469   ['mix together first 9 ingredients in a large ...   \n",
       "6467  ['mix all marinade ingredients', 'pierce the s...   \n",
       "7457  ['preheat oven to 350f', 'lightly grease a 9x1...   \n",
       "4218  ['in a parfait or sundae glass , layer some fr...   \n",
       "\n",
       "                                            ingredients  n_ingredients  \\\n",
       "6030  ['poblano pepper', 'reynolds wrap foil', 'oliv...             22   \n",
       "469   ['chicken', 'red seedless grapes', 'celery rib...             10   \n",
       "6467  ['steak', 'garlic cloves', 'kosher salt', 'sou...             18   \n",
       "7457  ['mild italian sausage', 'onion', 'green bell ...              8   \n",
       "4218  ['greek yogurt', 'fruit salad', 'honey', 'waln...              5   \n",
       "\n",
       "        rating  recipe_id_name  \n",
       "6030  4.990783            6030  \n",
       "469   4.975610             469  \n",
       "6467  4.972973            6467  \n",
       "7457  4.972973            7457  \n",
       "4218  4.972222            4218  "
      ]
     },
     "execution_count": 26,
     "metadata": {},
     "output_type": "execute_result"
    }
   ],
   "source": [
    "df_sorted.head()"
   ]
  },
  {
   "cell_type": "code",
   "execution_count": 27,
   "id": "b3a209c8",
   "metadata": {},
   "outputs": [],
   "source": [
    "df_ingredients = pd.read_csv('ing_rec3.csv', usecols=['ingredient', 'recipes'])"
   ]
  },
  {
   "cell_type": "code",
   "execution_count": 28,
   "id": "48fc5fd9",
   "metadata": {},
   "outputs": [
    {
     "data": {
      "text/html": [
       "<div>\n",
       "<style scoped>\n",
       "    .dataframe tbody tr th:only-of-type {\n",
       "        vertical-align: middle;\n",
       "    }\n",
       "\n",
       "    .dataframe tbody tr th {\n",
       "        vertical-align: top;\n",
       "    }\n",
       "\n",
       "    .dataframe thead th {\n",
       "        text-align: right;\n",
       "    }\n",
       "</style>\n",
       "<table border=\"1\" class=\"dataframe\">\n",
       "  <thead>\n",
       "    <tr style=\"text-align: right;\">\n",
       "      <th></th>\n",
       "      <th>ingredient</th>\n",
       "      <th>recipes</th>\n",
       "    </tr>\n",
       "  </thead>\n",
       "  <tbody>\n",
       "    <tr>\n",
       "      <th>0</th>\n",
       "      <td>butterscotch chips</td>\n",
       "      <td>[23933, 70785, 117424, 31794, 387926, 144268, ...</td>\n",
       "    </tr>\n",
       "    <tr>\n",
       "      <th>1</th>\n",
       "      <td>chinese noodles</td>\n",
       "      <td>[23933, 241279, 80686]</td>\n",
       "    </tr>\n",
       "    <tr>\n",
       "      <th>2</th>\n",
       "      <td>salted peanuts</td>\n",
       "      <td>[23933, 18719, 125825, 49184, 295624, 104762, ...</td>\n",
       "    </tr>\n",
       "    <tr>\n",
       "      <th>3</th>\n",
       "      <td>milk</td>\n",
       "      <td>[67664, 163238, 457965, 29916, 220503, 123746,...</td>\n",
       "    </tr>\n",
       "    <tr>\n",
       "      <th>4</th>\n",
       "      <td>frozen juice concentrate</td>\n",
       "      <td>[67664]</td>\n",
       "    </tr>\n",
       "  </tbody>\n",
       "</table>\n",
       "</div>"
      ],
      "text/plain": [
       "                 ingredient                                            recipes\n",
       "0        butterscotch chips  [23933, 70785, 117424, 31794, 387926, 144268, ...\n",
       "1           chinese noodles                             [23933, 241279, 80686]\n",
       "2            salted peanuts  [23933, 18719, 125825, 49184, 295624, 104762, ...\n",
       "3                      milk  [67664, 163238, 457965, 29916, 220503, 123746,...\n",
       "4  frozen juice concentrate                                            [67664]"
      ]
     },
     "execution_count": 28,
     "metadata": {},
     "output_type": "execute_result"
    }
   ],
   "source": [
    "df_ingredients.head()"
   ]
  },
  {
   "cell_type": "code",
   "execution_count": 29,
   "id": "40b19a9e",
   "metadata": {},
   "outputs": [],
   "source": [
    "ingredients_dict = {}\n",
    "for i, ingredient in enumerate(df_ingredients['ingredient']):\n",
    "    ingredients_dict[ingredient] = i "
   ]
  },
  {
   "cell_type": "code",
   "execution_count": 30,
   "id": "02cd390d",
   "metadata": {},
   "outputs": [],
   "source": [
    "recipe_list = df['recipe_id'].tolist()\n",
    "recipe_list = sorted(recipe_list)"
   ]
  },
  {
   "cell_type": "code",
   "execution_count": 31,
   "id": "d0e50067",
   "metadata": {},
   "outputs": [],
   "source": [
    "recipe_to_id = dict(zip(df_sorted['recipe_id'], df_sorted['recipe_id_name']))"
   ]
  },
  {
   "cell_type": "code",
   "execution_count": 32,
   "id": "aa745c4a",
   "metadata": {},
   "outputs": [
    {
     "name": "stdout",
     "output_type": "stream",
     "text": [
      "536119\n",
      "[1. 1. 1. ... 0. 0. 0.]\n"
     ]
    }
   ],
   "source": [
    "import ast\n",
    "num_ingredients = len(ingredients_dict)\n",
    "num_recipes = len(recipe_list)\n",
    "max_recipe_id = max(recipe_list)\n",
    "recipe_ingredient_matrix = np.zeros((num_recipes+1, num_ingredients))\n",
    "print(max_recipe_id)\n",
    "\n",
    "# fill in the matrix with 1s and 0s\n",
    "for i, row in df_ingredients.iterrows():\n",
    "        recipe_id = row['recipes']\n",
    "        recipe_id_list = ast.literal_eval(recipe_id)\n",
    "        ingredient_index = ingredients_dict[row['ingredient']]\n",
    "        for r in recipe_id_list:\n",
    "            if ingredient_index is not None:\n",
    "                recipe_ingredient_matrix[recipe_to_id[r], ingredient_index] = 1\n",
    "# Print the resulting matrix\n",
    "print(recipe_ingredient_matrix[0])"
   ]
  },
  {
   "cell_type": "code",
   "execution_count": 33,
   "id": "3dc22869",
   "metadata": {},
   "outputs": [
    {
     "name": "stdout",
     "output_type": "stream",
     "text": [
      "1.0\n",
      "1.0\n",
      "1.0\n"
     ]
    }
   ],
   "source": [
    "for i in recipe_ingredient_matrix[0]:\n",
    "    if i!=0:\n",
    "        print(i)"
   ]
  },
  {
   "cell_type": "code",
   "execution_count": 37,
   "id": "5fb88093",
   "metadata": {},
   "outputs": [],
   "source": [
    "recipe_ingredient_mat = recipe_ingredient_matrix"
   ]
  },
  {
   "cell_type": "code",
   "execution_count": 38,
   "id": "8eb23b42",
   "metadata": {},
   "outputs": [],
   "source": [
    "from sklearn.metrics.pairwise import cosine_similarity\n",
    "recipe_sim = cosine_similarity(recipe_ingredient_mat)"
   ]
  },
  {
   "cell_type": "code",
   "execution_count": 39,
   "id": "323eca35",
   "metadata": {},
   "outputs": [],
   "source": [
    "import numpy as np\n",
    "import pickle\n",
    "\n",
    "with open('recipe_cosine_sim.pickle', 'wb') as file:\n",
    "    pickle.dump(recipe_sim, file)"
   ]
  },
  {
   "cell_type": "code",
   "execution_count": 40,
   "id": "b0f0e5e3",
   "metadata": {},
   "outputs": [],
   "source": [
    "with open('recipe_cosine_sim.pickle', 'rb') as f:\n",
    "    recipe_sim_arr = pickle.load(f)\n",
    "\n",
    "# Convert the loaded data to a numpy array\n",
    "recipe_sim_arr = np.array(recipe_sim_arr)"
   ]
  },
  {
   "cell_type": "code",
   "execution_count": 41,
   "id": "fc9b150f",
   "metadata": {},
   "outputs": [
    {
     "data": {
      "text/plain": [
       "array([[1.        , 0.        , 0.        , ..., 0.        , 0.        ,\n",
       "        0.        ],\n",
       "       [0.        , 1.        , 0.        , ..., 0.        , 0.        ,\n",
       "        0.        ],\n",
       "       [0.        , 0.        , 1.        , ..., 0.1132277 , 0.05150262,\n",
       "        0.        ],\n",
       "       ...,\n",
       "       [0.        , 0.        , 0.1132277 , ..., 1.        , 0.15161961,\n",
       "        0.        ],\n",
       "       [0.        , 0.        , 0.05150262, ..., 0.15161961, 1.        ,\n",
       "        0.        ],\n",
       "       [0.        , 0.        , 0.        , ..., 0.        , 0.        ,\n",
       "        0.        ]])"
      ]
     },
     "execution_count": 41,
     "metadata": {},
     "output_type": "execute_result"
    }
   ],
   "source": [
    "recipe_sim_arr"
   ]
  }
 ],
 "metadata": {
  "kernelspec": {
   "display_name": "Python 3 (ipykernel)",
   "language": "python",
   "name": "python3"
  },
  "language_info": {
   "codemirror_mode": {
    "name": "ipython",
    "version": 3
   },
   "file_extension": ".py",
   "mimetype": "text/x-python",
   "name": "python",
   "nbconvert_exporter": "python",
   "pygments_lexer": "ipython3",
   "version": "3.9.13"
  }
 },
 "nbformat": 4,
 "nbformat_minor": 5
}
